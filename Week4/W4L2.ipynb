{
  "nbformat": 4,
  "nbformat_minor": 0,
  "metadata": {
    "colab": {
      "provenance": [],
      "collapsed_sections": [],
      "authorship_tag": "ABX9TyNpXL4CPMpF+7sX8++3l39V",
      "include_colab_link": true
    },
    "kernelspec": {
      "name": "python3",
      "display_name": "Python 3"
    },
    "language_info": {
      "name": "python"
    }
  },
  "cells": [
    {
      "cell_type": "markdown",
      "metadata": {
        "id": "view-in-github",
        "colab_type": "text"
      },
      "source": [
        "<a href=\"https://colab.research.google.com/github/SeungukJeong/ML4AI/blob/main/Week4/W4L2.ipynb\" target=\"_parent\"><img src=\"https://colab.research.google.com/assets/colab-badge.svg\" alt=\"Open In Colab\"/></a>"
      ]
    },
    {
      "cell_type": "markdown",
      "source": [
        "#### Week4 Sep22"
      ],
      "metadata": {
        "id": "5MrstM15Jyr8"
      }
    },
    {
      "cell_type": "code",
      "execution_count": 1,
      "metadata": {
        "id": "76CjzWoCG77D",
        "colab": {
          "base_uri": "https://localhost:8080/"
        },
        "outputId": "56e0dc5a-b60c-4a43-a206-4b679f5049a6"
      },
      "outputs": [
        {
          "output_type": "stream",
          "name": "stdout",
          "text": [
            "Mounted at /content/drive\n"
          ]
        }
      ],
      "source": [
        "from google.colab import drive\n",
        "drive.mount('/content/drive')"
      ]
    },
    {
      "cell_type": "code",
      "source": [
        "import os\n",
        "import sys\n",
        "os.listdir()"
      ],
      "metadata": {
        "colab": {
          "base_uri": "https://localhost:8080/"
        },
        "id": "WZryuluNKBFI",
        "outputId": "7ad4f456-f063-4007-d43e-e6943734c5af"
      },
      "execution_count": 2,
      "outputs": [
        {
          "output_type": "execute_result",
          "data": {
            "text/plain": [
              "['.config', 'drive', 'sample_data']"
            ]
          },
          "metadata": {},
          "execution_count": 2
        }
      ]
    },
    {
      "cell_type": "code",
      "source": [
        "os.getcwd()"
      ],
      "metadata": {
        "colab": {
          "base_uri": "https://localhost:8080/",
          "height": 35
        },
        "id": "Xja29tGAKpUI",
        "outputId": "6afd8daa-61b5-4bda-b43e-54577f0f144c"
      },
      "execution_count": 3,
      "outputs": [
        {
          "output_type": "execute_result",
          "data": {
            "text/plain": [
              "'/content'"
            ],
            "application/vnd.google.colaboratory.intrinsic+json": {
              "type": "string"
            }
          },
          "metadata": {},
          "execution_count": 3
        }
      ]
    },
    {
      "cell_type": "code",
      "source": [
        "# cd /condtent/drive/MyDrive/University/ML4AI_22Fall/\n",
        "\n",
        "path = '/content/drive/MyDrive/University/ML4AI_22Fall/'\n",
        "hands_on =  'Hands-On-Data-Analysis-with-Pandas-2nd-edition'\n",
        "\n",
        "os.chdir(path + hands_on)\n",
        "\n",
        "print(os.getcwd())\n",
        "print(os.listdir())"
      ],
      "metadata": {
        "colab": {
          "base_uri": "https://localhost:8080/"
        },
        "id": "pnWyP9nSKqzc",
        "outputId": "abd45272-6892-4868-a473-9604c24fb552"
      },
      "execution_count": 8,
      "outputs": [
        {
          "output_type": "stream",
          "name": "stdout",
          "text": [
            "/content/drive/MyDrive/University/ML4AI_22Fall/Hands-On-Data-Analysis-with-Pandas-2nd-edition\n",
            "['.git', '.github', '.gitignore', 'LICENSE', 'README.md', '_img', 'acknowledgements.md', 'appendix', 'apt.txt', 'ch_01', 'ch_02', 'ch_03', 'ch_04', 'ch_05', 'ch_06', 'ch_07', 'ch_08', 'ch_09', 'ch_10', 'ch_11', 'ch_12', 'environment.yml', 'requirements.txt', 'runtime.txt', 'solutions', 'visual-aids']\n"
          ]
        }
      ]
    }
  ]
}